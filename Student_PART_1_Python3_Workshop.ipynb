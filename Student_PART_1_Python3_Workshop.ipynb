{
  "nbformat": 4,
  "nbformat_minor": 0,
  "metadata": {
    "colab": {
      "provenance": [],
      "toc_visible": true,
      "collapsed_sections": [
        "PVP-GP1oPmAq",
        "4V6ntCVaPNp9",
        "KcKax5itPim-",
        "lTPTgDV8P1bW",
        "8xOAEaDzP_pw",
        "_AEgghd6hoA7",
        "qOaLUt7Kk8Dh",
        "U9Trk4z5Tek2",
        "bJQg7WqXvHSA",
        "41EnTOmb0O7v",
        "2OBLPeddW95-",
        "K3ZwwdYvXqkm",
        "DQVRP1Wgsgxj",
        "Ho4BHQxhiN3v"
      ]
    },
    "kernelspec": {
      "name": "python3",
      "display_name": "Python 3"
    },
    "language_info": {
      "name": "python"
    }
  },
  "cells": [
    {
      "cell_type": "markdown",
      "source": [
        "# WELCOME TO THE FIRST DAY OF OUR PYTHON CRASH COURSE!"
      ],
      "metadata": {
        "id": "6eqjiC4rlQe_"
      }
    },
    {
      "cell_type": "markdown",
      "source": [
        "# Lesson 1.1.0 Testing snippets of code using the Python Interpreter"
      ],
      "metadata": {
        "id": "PVP-GP1oPmAq"
      }
    },
    {
      "cell_type": "markdown",
      "source": [
        "### Example 1\n",
        "\n",
        "##### How many seconds(s) are in 10 milliseconds (ms)?\n"
      ],
      "metadata": {
        "id": "4V6ntCVaPNp9"
      }
    },
    {
      "cell_type": "code",
      "source": [],
      "metadata": {
        "id": "Odlom5-9Pg-V"
      },
      "execution_count": 5,
      "outputs": []
    },
    {
      "cell_type": "markdown",
      "source": [
        "### Problem 1\n",
        "\n",
        "##### How many 5μL are in mL?"
      ],
      "metadata": {
        "id": "KcKax5itPim-"
      }
    },
    {
      "cell_type": "code",
      "source": [],
      "metadata": {
        "id": "WaO9uy9fNNQS"
      },
      "execution_count": null,
      "outputs": []
    },
    {
      "cell_type": "markdown",
      "source": [
        "### Problem 2\n",
        "\n",
        "##### How many kg are in 0.0034g?"
      ],
      "metadata": {
        "id": "lTPTgDV8P1bW"
      }
    },
    {
      "cell_type": "code",
      "source": [],
      "metadata": {
        "id": "Wvc5e8AQQJWH"
      },
      "execution_count": 5,
      "outputs": []
    },
    {
      "cell_type": "markdown",
      "source": [
        "### Problem 3\n",
        "\n",
        "##### How many moles are there in 50g of water(H2O)?\n",
        "Tip: Use variables"
      ],
      "metadata": {
        "id": "8xOAEaDzP_pw"
      }
    },
    {
      "cell_type": "code",
      "source": [],
      "metadata": {
        "id": "2YhMZbOOQJul"
      },
      "execution_count": 5,
      "outputs": []
    },
    {
      "cell_type": "markdown",
      "source": [
        "# Lesson 1.2.0. Python datatypes (Integers and floats and strings...oh my!)"
      ],
      "metadata": {
        "id": "_AEgghd6hoA7"
      }
    },
    {
      "cell_type": "markdown",
      "source": [
        "#### Identify datatypes of Python objects using type() functions."
      ],
      "metadata": {
        "id": "qOaLUt7Kk8Dh"
      }
    },
    {
      "cell_type": "code",
      "source": [
        "#run mass_of_h2o in this block of code in this block of code\n",
        "\n"
      ],
      "metadata": {
        "id": "VyiCDpzKkWYb"
      },
      "execution_count": 7,
      "outputs": []
    },
    {
      "cell_type": "code",
      "source": [
        "#use the type function to identify when object type is mass_of_h2o\n",
        "\n"
      ],
      "metadata": {
        "id": "9ep-jYfkiaJ8"
      },
      "execution_count": 6,
      "outputs": []
    },
    {
      "cell_type": "code",
      "source": [
        "#use the float function to convert our integer object: mass_of_h2o to a float object\n",
        "\n"
      ],
      "metadata": {
        "id": "1begjfb0jrgx"
      },
      "execution_count": 8,
      "outputs": []
    },
    {
      "cell_type": "markdown",
      "source": [
        "#### Run this classic string!"
      ],
      "metadata": {
        "id": "gl-PvkHJmddC"
      }
    },
    {
      "cell_type": "code",
      "source": [
        "#run 'hola puerto rico' in this block of code\n",
        "\n"
      ],
      "metadata": {
        "id": "9xski1WYm5km"
      },
      "execution_count": 10,
      "outputs": []
    },
    {
      "cell_type": "markdown",
      "source": [
        "#### Assign a variable to this string and print variable\n",
        "Hint: Search for python's print() function"
      ],
      "metadata": {
        "id": "6bbFLN78nYcZ"
      }
    },
    {
      "cell_type": "code",
      "source": [
        "#assign a variable in this block of code\n",
        "\n"
      ],
      "metadata": {
        "id": "MRRcHMfVncs5"
      },
      "execution_count": 12,
      "outputs": []
    },
    {
      "cell_type": "markdown",
      "source": [
        "# Lesson 1.3.0 Evaluate the GC content of a DNA sequence"
      ],
      "metadata": {
        "id": "U9Trk4z5Tek2"
      }
    },
    {
      "cell_type": "markdown",
      "source": [
        "### Create a variable for your favorite protein-coding gene sequence.\n",
        "Tip: A sequence will probably take multiple lines. Use triple quotations."
      ],
      "metadata": {
        "id": "bJQg7WqXvHSA"
      }
    },
    {
      "cell_type": "code",
      "source": [
        "sequence = \"\"\"ATGTGGTGGAGAGTTCTCAGCTTGCTGGCATGGTTCCCCTTGCAAGAGGCCTCTCTGACT\n",
        "AACCACACAGAAACCATCACCGTGGAGGAAGGCCAGACGCTCACTCTAAAGTGTGTCACT\n",
        "TCTCTGAGGAAGAACTCCTCCCTCCAGTGGCTGACCCCCTCAGGGTTCACCATTTTTTTA\n",
        "AATGAGTATCCTGCTTTAAAAAATTCCAAATACCAGCTTCTTCATCACTCGGCCAATCAG\n",
        "CTCTCCATCACTGTGCCTAACGTAACCCTGCAAGATGAAGGCGTGTACAAGTGCTTACAT\n",
        "TACAGCGACTCTGTAAGCACAAAGGAAGTGAAAGTGATTGTGCTGGCAACTCCTTTCAAG\n",
        "CCAATCCTGGAAGCTTCAGTTATCAGAAAGCAAAATGGAGAAGAACATGTTGTACTCATG\n",
        "TGCTCCACCATGAGAAGCAAGCCCCCTCCGCAGATAACCTGGCTACTTGGGAATAGCATG\n",
        "GAAGTGTCCGGTGGAACGCTCCATGAATTTGAAACTGATGGGAAGAAATGTAATACTACC\n",
        "AGCACTCTCATAATCCACACTTATGGCAAAAATTCAACGGTGGACTGCATTATCCGACAC\n",
        "AGAGGCCTGCAAGGGAGAAAACTAGTAGCACCCTTCCGGTTTGAAGATTTGGTTACTGAT\n",
        "GAAGAGACAGCTTCAGATGCTCTGGAGAGAAACTCTCTATCCTCTCAAGACCCACAGCAG\n",
        "CCCACCAGTACTGTCTCAGTAACGGAAGATTCTAGTACATCGGAGATTGACAAGGAAGAG\n",
        "AAAGAACAAACCACTCAAGATCCTGACTTGACCACCGAAGCAAATCCTCAGTATTTAGGA\n",
        "CTGGCAAGAAAGAAAAGTGGCATCCTGCTGCTCACGCTGGTGTCCTTCCTCATTTTCATA\n",
        "CTCTTCATCATAGTCCAGCTCTTCATCATGAAGCTGAGGAAAGCACATGTGATATGGAAG\n",
        "AGAGAAAACGAAGTTTCAGAACACACACTAGAAAGTTACAGATCAAGGTCAAATAATGAA\n",
        "GAAACATCATCTGAAGAGAAAAATGGCCAATCTTCCCACCCTATGCGTTGCATGAACTAC\n",
        "ATCACAAAGTTGTACTCAGAAGCAAAAACAAAGAGGAAGGAAAATGTACAACATTCAAAA\n",
        "TTAGAAGAAAAGCACATCCAAGTACCAGAGAGTATTGTGTAGTGCTCTCTGCAATGGAAC\n",
        "ATGTGATTTCAGGGTTGCCGCAGTGTCACCTCAGTGGACCAGCCTGGGGGAAGGAGCTTA\n",
        "ATTGCTGAGACATTAATAATGACCTCTTAGTGCAATGCAAGATGGTGTCCTCGGATAATG\n",
        "ATCTGCCCCGGAGCTAGGGCAGCAACATGAGGACCAAACCATGCACATAAAGCTTGTAGT\n",
        "TTAAAAAAGAAAAGCAAAAAAATAATTATGCCTGACACTACTTCAGAGCAGGAGGATTCT\n",
        "ACGAAGCCTTGGGGATCAGGGTCAGTGTGAGCAGCTAACATCCTACCTCAAATGGAACAG\n",
        "GATTTTTTGATGCTTTGCTCTAATGGAACTGTTTTAAAAATTTTTTTTTCTTTTTAATAT\n",
        "TTTCTTCTGGTCACAAAATAAAGAAATTTGGGATGCAAAGTACCTAAAGATCTCTGATCC\n",
        "TAAGAAGTTACTTCTGGCCAGGCGCGGTGGCTCATGCCTGTAATCCTAGCACTTTGGGAG\n",
        "GCTGAGGTAGGCAGATCACTTGAGGTCAGGAGTTGGAGACCAGCCTGGCCAACATAGTGA\n",
        "AACCCCGTCTCTACTAAAAATGCAAAAATTAGCCAGGCGTAGTGGTGCGCACCTGTAGTC\n",
        "TCAGATACTTGGGAGGCTGAGGGTGGAGAATCGCTTGAACCTGGGAGGTGGAGATTGCAG\n",
        "TGAGTCAAGATCTCACCACTGAACTCCAGCCTGGGCGACAGAGGGAGACTCTGTCTCAAA\n",
        "AAAAAAGAAGTTACTTCCAAGACAGACTTTTAACATGTAACCAGCACAAAGCAATGTCAG\n",
        "GGAGGAGTGATACATGACAATAAATGAGTCAGATGAGCAAGAAGGCCCCAGAACCCATGC\n",
        "CCCAAGGCACAAAGAGGAGCTCAGGGTAGGCCCAAAGATTCGAATTCCTTAGATTACTAA\n",
        "ATCACATGAGCGGACCTTGTCTGTCAGATAAGATTTTTACCTGGAAATTCCATGACCAAT\n",
        "ACATGTGCAAAAGAAAATGATGGGTTGAATTTACTGATTATTGACCTAATGGATGGCTTT\n",
        "TTAAAATGTTTTAATAAAAAGCAGAATAGATGTTTGTTTTTCTAGTGGTTATACCAAGCT\n",
        "ATACTTCCTGTTTTCACGTGTGAAAGTAACATGGGACATGCCTTTCTTTTCCGATCAGTT\n",
        "TATTTAAGCTATACAGCAAACTTTGGCATTTATGTGGAGCATTTCTCATTGTTGGAATCT\n",
        "GAATAAACCAATTACAAAATAAAAA\"\"\""
      ],
      "metadata": {
        "id": "P-2KdDjKvD5b"
      },
      "execution_count": 24,
      "outputs": []
    },
    {
      "cell_type": "markdown",
      "source": [
        "### Get to know the CRTAM sequence"
      ],
      "metadata": {
        "id": "41EnTOmb0O7v"
      }
    },
    {
      "cell_type": "code",
      "source": [
        "#How long is your sequence?\n",
        "\n"
      ],
      "metadata": {
        "id": "E0jyHW7FHFk0"
      },
      "execution_count": 30,
      "outputs": []
    },
    {
      "cell_type": "code",
      "source": [
        "#How many Adenines are in your sequence?\n",
        "\n"
      ],
      "metadata": {
        "id": "pWhgVDeRVqBQ"
      },
      "execution_count": 31,
      "outputs": []
    },
    {
      "cell_type": "markdown",
      "source": [
        "### Find the GC conent of the CRTAM sequence"
      ],
      "metadata": {
        "id": "2OBLPeddW95-"
      }
    },
    {
      "cell_type": "code",
      "source": [
        "#Use this block of code to find the answer!\n",
        "\n"
      ],
      "metadata": {
        "id": "JWGKaazLHTdB"
      },
      "execution_count": 27,
      "outputs": []
    },
    {
      "cell_type": "markdown",
      "source": [
        "## Lesson 1.3.1 Define a function"
      ],
      "metadata": {
        "id": "K3ZwwdYvXqkm"
      }
    },
    {
      "cell_type": "code",
      "source": [
        "def find_GC_content(a_sequence):\n",
        "  length = len(sequence)\n",
        "  G_count = sequence.count('G')\n",
        "  C_count = sequence.count('C')\n",
        "  GC_content = (G_count + C_count)/length*100\n",
        "  return(GC_content)"
      ],
      "metadata": {
        "id": "p6ap9UgrXw5P"
      },
      "execution_count": 28,
      "outputs": []
    },
    {
      "cell_type": "code",
      "source": [
        "find_GC_content(sequence)"
      ],
      "metadata": {
        "colab": {
          "base_uri": "https://localhost:8080/"
        },
        "id": "TFF0rqjdY-93",
        "outputId": "20f1e3d6-77bd-4af0-b472-bbf097c27e40"
      },
      "execution_count": 29,
      "outputs": [
        {
          "output_type": "execute_result",
          "data": {
            "text/plain": [
              "42.799188640973625"
            ]
          },
          "metadata": {},
          "execution_count": 29
        }
      ]
    },
    {
      "cell_type": "markdown",
      "source": [
        "# Lesson 1.4.0 Running into errors"
      ],
      "metadata": {
        "id": "DQVRP1Wgsgxj"
      }
    },
    {
      "cell_type": "code",
      "source": [
        "length = len(sequence)\n",
        "G_count = sequence.count('G')\n",
        "C_count = sequence.count('C')\n",
        "GC_content = (G_count + C_count)/length*100\n",
        "\n",
        "print(\"My sequence is \"+str(length)+\" nucleotides long.\")\n",
        "print(\"There are \"+str(G_count)+\" guanines and \"+C_count+\" cytocines.\")\n",
        "print(\"The GC content of my sequence is \"+str(GC_content)+\".\")"
      ],
      "metadata": {
        "colab": {
          "base_uri": "https://localhost:8080/",
          "height": 232
        },
        "id": "z2jUfDUtdLU3",
        "outputId": "a559081e-6f6a-4edc-9a38-8147477b6456"
      },
      "execution_count": 23,
      "outputs": [
        {
          "output_type": "stream",
          "name": "stdout",
          "text": [
            "My sequence is 2465 nucleotides long.\n"
          ]
        },
        {
          "output_type": "error",
          "ename": "TypeError",
          "evalue": "ignored",
          "traceback": [
            "\u001b[0;31m---------------------------------------------------------------------------\u001b[0m",
            "\u001b[0;31mTypeError\u001b[0m                                 Traceback (most recent call last)",
            "\u001b[0;32m<ipython-input-23-1469263582d9>\u001b[0m in \u001b[0;36m<cell line: 7>\u001b[0;34m()\u001b[0m\n\u001b[1;32m      5\u001b[0m \u001b[0;34m\u001b[0m\u001b[0m\n\u001b[1;32m      6\u001b[0m \u001b[0mprint\u001b[0m\u001b[0;34m(\u001b[0m\u001b[0;34m\"My sequence is \"\u001b[0m\u001b[0;34m+\u001b[0m\u001b[0mstr\u001b[0m\u001b[0;34m(\u001b[0m\u001b[0mlength\u001b[0m\u001b[0;34m)\u001b[0m\u001b[0;34m+\u001b[0m\u001b[0;34m\" nucleotides long.\"\u001b[0m\u001b[0;34m)\u001b[0m\u001b[0;34m\u001b[0m\u001b[0;34m\u001b[0m\u001b[0m\n\u001b[0;32m----> 7\u001b[0;31m \u001b[0mprint\u001b[0m\u001b[0;34m(\u001b[0m\u001b[0;34m\"There are \"\u001b[0m\u001b[0;34m+\u001b[0m\u001b[0mstr\u001b[0m\u001b[0;34m(\u001b[0m\u001b[0mG_count\u001b[0m\u001b[0;34m)\u001b[0m\u001b[0;34m+\u001b[0m\u001b[0;34m\" guanines and \"\u001b[0m\u001b[0;34m+\u001b[0m\u001b[0mC_count\u001b[0m\u001b[0;34m+\u001b[0m\u001b[0;34m\" cytocines.\"\u001b[0m\u001b[0;34m)\u001b[0m\u001b[0;34m\u001b[0m\u001b[0;34m\u001b[0m\u001b[0m\n\u001b[0m\u001b[1;32m      8\u001b[0m \u001b[0mprint\u001b[0m\u001b[0;34m(\u001b[0m\u001b[0;34m\"The GC content of my sequence is \"\u001b[0m\u001b[0;34m+\u001b[0m\u001b[0mstr\u001b[0m\u001b[0;34m(\u001b[0m\u001b[0mGC_content\u001b[0m\u001b[0;34m)\u001b[0m\u001b[0;34m+\u001b[0m\u001b[0;34m\".\"\u001b[0m\u001b[0;34m)\u001b[0m\u001b[0;34m\u001b[0m\u001b[0;34m\u001b[0m\u001b[0m\n",
            "\u001b[0;31mTypeError\u001b[0m: can only concatenate str (not \"int\") to str"
          ]
        }
      ]
    },
    {
      "cell_type": "markdown",
      "source": [
        "#Proficiency Assessment"
      ],
      "metadata": {
        "id": "Ho4BHQxhiN3v"
      }
    },
    {
      "cell_type": "code",
      "source": [],
      "metadata": {
        "id": "fULDoi4ViSZ6"
      },
      "execution_count": null,
      "outputs": []
    }
  ]
}