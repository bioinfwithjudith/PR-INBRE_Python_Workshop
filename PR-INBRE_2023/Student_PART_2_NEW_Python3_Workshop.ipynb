{
  "nbformat": 4,
  "nbformat_minor": 0,
  "metadata": {
    "colab": {
      "provenance": [],
      "toc_visible": true,
      "collapsed_sections": [
        "ewqEG1y22cmq",
        "GxHc4urX4l0U",
        "I235Ms8l5Jjj",
        "rMNd5WLHy_AG"
      ]
    },
    "kernelspec": {
      "name": "python3",
      "display_name": "Python 3"
    },
    "language_info": {
      "name": "python"
    }
  },
  "cells": [
    {
      "cell_type": "markdown",
      "source": [
        "#Welcome to your second day of intense Python Code!"
      ],
      "metadata": {
        "id": "OgwAQTN76cTM"
      }
    },
    {
      "cell_type": "markdown",
      "source": [
        "#Lesson 2.0.0. Booleans and Conditions"
      ],
      "metadata": {
        "id": "61gC-i-Qyp7Q"
      }
    },
    {
      "cell_type": "code",
      "source": [
        "#Use block of code for note taking\n",
        "\n"
      ],
      "metadata": {
        "id": "CEoYJ7-O2zsH"
      },
      "execution_count": null,
      "outputs": []
    },
    {
      "cell_type": "markdown",
      "source": [
        "####if statement"
      ],
      "metadata": {
        "id": "Al78KkTs3NiQ"
      }
    },
    {
      "cell_type": "code",
      "source": [
        "if 2 < 5:\n",
        "  print(f'Statement is {True}')"
      ],
      "metadata": {
        "id": "TkHr5tdB22EZ"
      },
      "execution_count": null,
      "outputs": []
    },
    {
      "cell_type": "code",
      "source": [
        "if not 2 > 5:\n",
        "  print(f'Statement is {False}')"
      ],
      "metadata": {
        "id": "T0f15HUf25y4"
      },
      "execution_count": null,
      "outputs": []
    },
    {
      "cell_type": "markdown",
      "source": [
        "####if-else statement"
      ],
      "metadata": {
        "id": "ADHvwZS83QEk"
      }
    },
    {
      "cell_type": "code",
      "source": [
        "sequence = 'ATGTGGTGGAGA'\n",
        "if 'ATG' in sequence:\n",
        "  print(f'ATG is in {sequence}')\n",
        "else:\n",
        "  print(f'ATG is not in {sequence}')"
      ],
      "metadata": {
        "id": "697-iPq127bt"
      },
      "execution_count": null,
      "outputs": []
    },
    {
      "cell_type": "markdown",
      "source": [
        "####if-elif-else"
      ],
      "metadata": {
        "id": "yAH7ll6A3Uvd"
      }
    },
    {
      "cell_type": "code",
      "source": [
        "sequence = 'ATGTGGTGGAGATAG'\n",
        "if 'TAA' in sequence:\n",
        "  print(f'TAA in {sequence}')\n",
        "elif 'TAG' in sequence:\n",
        "  print(f'TAG in {sequence}')\n",
        "elif 'TGA' in sequence:\n",
        "  print(f'TGA in {sequence}')\n",
        "else:\n",
        "  print(f'A stop codon does not exist in {sequence}')"
      ],
      "metadata": {
        "id": "RA6XTHTG3FPi"
      },
      "execution_count": null,
      "outputs": []
    },
    {
      "cell_type": "markdown",
      "source": [
        "#Lesson 2.1.0 Python Datatypes"
      ],
      "metadata": {
        "id": "npYBAlWPyuyJ"
      }
    },
    {
      "cell_type": "markdown",
      "source": [
        "##Lesson 2.1.1 Python Datatype Lists "
      ],
      "metadata": {
        "id": "QR81WdY2yy22"
      }
    },
    {
      "cell_type": "code",
      "source": [
        "#Method 1: Create a list with items\n"
      ],
      "metadata": {
        "id": "4PzajNcUu60D"
      },
      "execution_count": null,
      "outputs": []
    },
    {
      "cell_type": "code",
      "source": [
        "#Method 2: Start an empty list\n",
        "\n"
      ],
      "metadata": {
        "id": "s4G6sdgjlx_L"
      },
      "execution_count": null,
      "outputs": []
    },
    {
      "cell_type": "code",
      "execution_count": null,
      "metadata": {
        "colab": {
          "base_uri": "https://localhost:8080/"
        },
        "id": "sErDbdeLg_E1",
        "outputId": "5b063700-176f-42cb-ffbc-50f6f77d8c48"
      },
      "outputs": [
        {
          "output_type": "execute_result",
          "data": {
            "text/plain": [
              "['TAG', 'ATG', 'TGA']"
            ]
          },
          "metadata": {},
          "execution_count": 4
        }
      ],
      "source": [
        "#Fix the stop codons list\n",
        "stop_codons = ['TAG','ATG','TGA']\n",
        "stop_codons "
      ]
    },
    {
      "cell_type": "markdown",
      "source": [
        "## Lesson 2.1.2 Python Datatype Dictionary"
      ],
      "metadata": {
        "id": "SsQiqY2lhQo1"
      }
    },
    {
      "cell_type": "code",
      "source": [
        "#Method 1: Create a dictionary with items\n",
        "leucine_codons = {'CTT':'Leu', 'CTC':'Leu', \n",
        "                  'CTA':'Leu', 'CTG':'Leu', \n",
        "                  'TTA':'Leu', 'TTG':'Leu'}\n",
        "leucine_codons"
      ],
      "metadata": {
        "id": "OSj07WzLhVkW"
      },
      "execution_count": null,
      "outputs": []
    },
    {
      "cell_type": "code",
      "source": [
        "#Method 2: Add elements to an ampty/existing dictionary\n",
        "empty_dictionary = {}"
      ],
      "metadata": {
        "id": "-x1SZ0II73kA"
      },
      "execution_count": null,
      "outputs": []
    },
    {
      "cell_type": "code",
      "source": [
        "#Method 2: Add elements to an ampty/existing dictionary\n",
        "empty_dictionary['CTT'] = 'Leu'\n",
        "empty_dictionary['CTC'] = 'Leu'\n",
        "empty_dictionary['CTA'] = 'Leu'\n",
        "empty_dictionary['CTG'] = 'Leu'\n",
        "empty_dictionary['TTA'] = 'Leu'\n",
        "empty_dictionary['TTG'] = 'Leu'\n",
        "empty_dictionary"
      ],
      "metadata": {
        "colab": {
          "base_uri": "https://localhost:8080/"
        },
        "id": "9AgxfgbD8Tg-",
        "outputId": "6a87f9e0-3700-4db9-807f-aed64cf8aebd"
      },
      "execution_count": null,
      "outputs": [
        {
          "output_type": "execute_result",
          "data": {
            "text/plain": [
              "{'CTT': 'Leu',\n",
              " 'CTC': 'Leu',\n",
              " 'CTA': 'Leu',\n",
              " 'CTG': 'Leu',\n",
              " 'TTA': 'Leu',\n",
              " 'TTG': 'Leu'}"
            ]
          },
          "metadata": {},
          "execution_count": 9
        }
      ]
    },
    {
      "cell_type": "code",
      "source": [
        "#Use this block of code to call a key from the dictionary\n",
        "\n"
      ],
      "metadata": {
        "id": "DieuDRQUFc90"
      },
      "execution_count": null,
      "outputs": []
    },
    {
      "cell_type": "markdown",
      "source": [
        "###Dictionary for codon and residue"
      ],
      "metadata": {
        "id": "EnM97dIWYXAO"
      }
    },
    {
      "cell_type": "code",
      "source": [
        "codon_table = {\n",
        "    'TCA': 'S', 'TCC': 'S', 'TCG': 'S', 'TCT': 'S', 'AGC': 'S', 'AGT': 'S',    # Serine\n",
        "    'TTC': 'F', 'TTT': 'F',                                                    # Phenilalanine\n",
        "    'TTA': 'L', 'TTG': 'L', 'CTA': 'L', 'CTC': 'L', 'CTG': 'L', 'CTT': 'L',    # Leucine\n",
        "    'TAC': 'Y', 'TAT': 'Y',                                                    # Tirosine\n",
        "    'TAA': '*', 'TAG': '*', 'TGA': '*',                                        # Stop\n",
        "    'TGC': 'C', 'TGT': 'C',                                                    # Cisteine\n",
        "    'TGG': 'W',                                                                # Tryptophane\n",
        "    'CCA': 'P', 'CCC': 'P', 'CCG': 'P', 'CCT': 'P',                            # Proline\n",
        "    'CAC': 'H', 'CAT': 'H',                                                    # Histidine\n",
        "    'CAA': 'Q', 'CAG': 'Q',                                                    # Glutamine\n",
        "    'CGA': 'R', 'CGC': 'R', 'CGG': 'R', 'CGT': 'R',                            # Arginine\n",
        "    'ATA': 'I', 'ATC': 'I', 'ATT': 'I',                                        # Isoleucine\n",
        "    'ATG': 'M',                                                                # Methionine\n",
        "    'ACA': 'T', 'ACC': 'T', 'ACG': 'T', 'ACT': 'T',                            # Threonine\n",
        "    'AAC': 'N', 'AAT': 'N',                                                    # Asparagine\n",
        "    'AAA': 'K', 'AAG': 'K',                                                    # Lysine\n",
        "    'AGA': 'R', 'AGG': 'R',                                                    # Arginine\n",
        "    'GTA': 'V', 'GTC': 'V', 'GTG': 'V', 'GTT': 'V',                            # Valine\n",
        "    'GCA': 'A', 'GCC': 'A', 'GCG': 'A', 'GCT': 'A',                            # Alanine\n",
        "    'GAC': 'D', 'GAT': 'D',                                                    # Aspartic Acid\n",
        "    'GAA': 'E', 'GAG': 'E',                                                    # Glutamic Acid\n",
        "    'GGA': 'G', 'GGC': 'G', 'GGG': 'G', 'GGT': 'G'                             # Glycine\n",
        "}\n",
        "\n",
        "#Be curious, print the dictionary\n",
        "\n"
      ],
      "metadata": {
        "id": "gQUwg_BDG6Rr"
      },
      "execution_count": null,
      "outputs": []
    },
    {
      "cell_type": "markdown",
      "source": [
        "# Lesson 2.2.0 Automating repetitive tasks using Python"
      ],
      "metadata": {
        "id": "ewqEG1y22cmq"
      }
    },
    {
      "cell_type": "markdown",
      "source": [
        "## Lesson 2.2.1a For Loops"
      ],
      "metadata": {
        "id": "GxHc4urX4l0U"
      }
    },
    {
      "cell_type": "code",
      "source": [
        "#Solution option 1\n",
        "\n"
      ],
      "metadata": {
        "id": "L0MZSIdpfOJQ"
      },
      "execution_count": null,
      "outputs": []
    },
    {
      "cell_type": "code",
      "source": [
        "#Solution option 2\n",
        "\n"
      ],
      "metadata": {
        "id": "JDlqDEh_k03B"
      },
      "execution_count": null,
      "outputs": []
    },
    {
      "cell_type": "code",
      "source": [
        "#Solution option 3\n",
        "\n"
      ],
      "metadata": {
        "id": "7iufL4qKk2P3"
      },
      "execution_count": null,
      "outputs": []
    },
    {
      "cell_type": "markdown",
      "source": [
        "## Lesson 2.2.1b Exploit information from sequences using For loops"
      ],
      "metadata": {
        "id": "I235Ms8l5Jjj"
      }
    },
    {
      "cell_type": "code",
      "source": [
        "#Use this block of code to take notes\n",
        "\n"
      ],
      "metadata": {
        "id": "qyc7tWvAxYwx"
      },
      "execution_count": null,
      "outputs": []
    },
    {
      "cell_type": "markdown",
      "source": [
        "## Lession 2.2.2a While Loops"
      ],
      "metadata": {
        "id": "rMNd5WLHy_AG"
      }
    },
    {
      "cell_type": "code",
      "source": [
        "# Return the index position of the gap in the following sequence\n",
        "sequence = 'ATGTGG-TGGAGA'\n",
        "position = None\n",
        "temp = 0\n",
        "while position == None:\n",
        "  nucleotide = sequence[temp]\n",
        "  if nucleotide == '-':\n",
        "    position = temp\n",
        "  print(position, temp, nucleotide)\n",
        "  temp+=1"
      ],
      "metadata": {
        "id": "oZz8l5WdzRYC"
      },
      "execution_count": null,
      "outputs": []
    },
    {
      "cell_type": "markdown",
      "source": [
        "# Proficiency Assessment"
      ],
      "metadata": {
        "id": "eDO9YIl_6gWl"
      }
    },
    {
      "cell_type": "code",
      "source": [
        "# Exercise 1: Return the total number of Guanines in the following sequence without using the count() function!\n",
        "sequence = \"\"\"ATGAGCATTATTAAAGAATTTCGCGAATTTGCGATGCGCGGGAACGTGGTGGATTTGGCG\n",
        "GTGGGTGTCATTATCGGTGCGGCATTCGGGAAGATTGTCTCTTCACTGGTTGCCGATATC\n",
        "ATCATGCCTCCTCTGGGCTTATTAATTGGCGGGATCGATTTTAA\"\"\"\n"
      ],
      "metadata": {
        "id": "Y6mvtFz0zaTS"
      },
      "execution_count": 3,
      "outputs": []
    },
    {
      "cell_type": "code",
      "source": [
        "# Exercise 2: How many differences are between Sequence A and Sequence B?\n",
        "sequence_A = \"GDKKVSKK\"\n",
        "sequence_B = \"GAKLVMEK\"\n"
      ],
      "metadata": {
        "id": "5jEC-Vo0zo9V"
      },
      "execution_count": 2,
      "outputs": []
    },
    {
      "cell_type": "code",
      "source": [
        "# Exercise 3: Return the following (length, transcript, coding sequence as a list, protein sequence) for the following sequence.\n",
        "sequence = \"\"\"ATGAGCATTATTAAAGAATTTCGCGAATTTGCGATGCGCGGGAACGTGGTGGATTTGGCG\n",
        "GTGGGTGTCATTATCGGTGCGGCATTCGGGAAGATTGTCTCTTCACTGGTTGCCGATATC\n",
        "ATCATGCCTCCTCTGGGCTTATTAATTGGCGGGATCGATTTT\"\"\".replace(\"\\n\",\"\")\n",
        "\n",
        "#Return length\n",
        "\n",
        "#Return transcript\n",
        "\n",
        "#Return coding sequence as a list\n",
        "\n",
        "#Return protein sequence\n",
        "\n",
        "#Does your translated sequence equal the correct sequence?\n",
        "correct_sequence = \"MSIIKEFREFAMRGNVVDLAVGVIIGAAFGKIVSSLVADIIMPPLGLLIGGIDF\"\n"
      ],
      "metadata": {
        "id": "PnjNoaB0z-Mg"
      },
      "execution_count": 1,
      "outputs": []
    }
  ]
}