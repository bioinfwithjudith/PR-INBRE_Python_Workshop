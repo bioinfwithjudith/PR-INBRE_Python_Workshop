{
  "nbformat": 4,
  "nbformat_minor": 0,
  "metadata": {
    "colab": {
      "provenance": [],
      "toc_visible": true,
      "collapsed_sections": [
        "61gC-i-Qyp7Q",
        "Al78KkTs3NiQ",
        "ADHvwZS83QEk",
        "yAH7ll6A3Uvd",
        "npYBAlWPyuyJ",
        "QR81WdY2yy22",
        "SsQiqY2lhQo1",
        "GxHc4urX4l0U",
        "I235Ms8l5Jjj",
        "EnM97dIWYXAO",
        "ea87KixRMEHS",
        "4-3oHEwrMUNu",
        "vLkB0BC7Mft5"
      ]
    },
    "kernelspec": {
      "name": "python3",
      "display_name": "Python 3"
    },
    "language_info": {
      "name": "python"
    }
  },
  "cells": [
    {
      "cell_type": "markdown",
      "source": [
        "#**Welcome to your second day of intense Python Code!**"
      ],
      "metadata": {
        "id": "OgwAQTN76cTM"
      }
    },
    {
      "cell_type": "markdown",
      "source": [
        "##**Lesson 2.0.0. Booleans and Conditions**"
      ],
      "metadata": {
        "id": "61gC-i-Qyp7Q"
      }
    },
    {
      "cell_type": "code",
      "source": [
        "#Use block of code for note taking\n",
        "'red' == 'red'"
      ],
      "metadata": {
        "id": "CEoYJ7-O2zsH",
        "colab": {
          "base_uri": "https://localhost:8080/"
        },
        "outputId": "a7d69db5-5625-4261-dd6e-68282aab53e7"
      },
      "execution_count": null,
      "outputs": [
        {
          "output_type": "execute_result",
          "data": {
            "text/plain": [
              "True"
            ]
          },
          "metadata": {},
          "execution_count": 1
        }
      ]
    },
    {
      "cell_type": "markdown",
      "source": [
        "### **Exercise 2.0.1: Test if statements**"
      ],
      "metadata": {
        "id": "Al78KkTs3NiQ"
      }
    },
    {
      "cell_type": "code",
      "source": [
        "if 2 < 5:\n",
        "  print(f'Statement is {True}')"
      ],
      "metadata": {
        "id": "TkHr5tdB22EZ"
      },
      "execution_count": null,
      "outputs": []
    },
    {
      "cell_type": "code",
      "source": [
        "if not 2 > 5:\n",
        "  print(f'Statement is {False}')"
      ],
      "metadata": {
        "id": "T0f15HUf25y4"
      },
      "execution_count": null,
      "outputs": []
    },
    {
      "cell_type": "markdown",
      "source": [
        "### **Exercise 2.0.2: Test if-else statement**"
      ],
      "metadata": {
        "id": "ADHvwZS83QEk"
      }
    },
    {
      "cell_type": "code",
      "source": [
        "sequence = 'ATGTGGTGGAGA'\n",
        "if 'ATG' in sequence:\n",
        "  print(f'ATG is in {sequence}')\n",
        "else:\n",
        "  print(f'ATG is not in {sequence}')"
      ],
      "metadata": {
        "id": "697-iPq127bt"
      },
      "execution_count": null,
      "outputs": []
    },
    {
      "cell_type": "markdown",
      "source": [
        "###**Exercise 2.0.3: Test if-elif-else statements**"
      ],
      "metadata": {
        "id": "yAH7ll6A3Uvd"
      }
    },
    {
      "cell_type": "code",
      "source": [
        "sequence = 'ATGTGGTGGAGATAG'\n",
        "if 'TAA' in sequence:\n",
        "  print(f'TAA in {sequence}')\n",
        "elif 'TAG' in sequence:\n",
        "  print(f'TAG in {sequence}')\n",
        "elif 'TGA' in sequence:\n",
        "  print(f'TGA in {sequence}')\n",
        "else:\n",
        "  print(f'A stop codon does not exist in {sequence}')"
      ],
      "metadata": {
        "id": "RA6XTHTG3FPi"
      },
      "execution_count": null,
      "outputs": []
    },
    {
      "cell_type": "markdown",
      "source": [
        "##**Lesson 2.1.0 Python Datatypes**"
      ],
      "metadata": {
        "id": "npYBAlWPyuyJ"
      }
    },
    {
      "cell_type": "markdown",
      "source": [
        "###**Exercise 2.1.1: Python Datatype Lists**"
      ],
      "metadata": {
        "id": "QR81WdY2yy22"
      }
    },
    {
      "cell_type": "code",
      "source": [
        "#Method 1: Create a list with items\n",
        "stop_codons = ['TAG','ATG','TGA']\n",
        "stop_codons"
      ],
      "metadata": {
        "id": "4PzajNcUu60D",
        "colab": {
          "base_uri": "https://localhost:8080/"
        },
        "outputId": "ba434834-13b1-4d95-c071-b5b6393229f4"
      },
      "execution_count": 9,
      "outputs": [
        {
          "output_type": "execute_result",
          "data": {
            "text/plain": [
              "['TAG', 'ATG', 'TGA']"
            ]
          },
          "metadata": {},
          "execution_count": 9
        }
      ]
    },
    {
      "cell_type": "code",
      "source": [
        "#Method 2: Start an empty list\n",
        "empty_list=[]\n",
        "empty_list"
      ],
      "metadata": {
        "id": "s4G6sdgjlx_L",
        "colab": {
          "base_uri": "https://localhost:8080/"
        },
        "outputId": "9514bc15-cb5e-456f-e2f4-e5d78d470072"
      },
      "execution_count": 2,
      "outputs": [
        {
          "output_type": "execute_result",
          "data": {
            "text/plain": [
              "[]"
            ]
          },
          "metadata": {},
          "execution_count": 2
        }
      ]
    },
    {
      "cell_type": "code",
      "source": [
        "empty_list.append('TAG')\n",
        "empty_list.append('ATG')\n",
        "empty_list.append('TGA')\n",
        "empty_list"
      ],
      "metadata": {
        "colab": {
          "base_uri": "https://localhost:8080/"
        },
        "id": "_gGqTGTLIEar",
        "outputId": "f74ba080-66bc-40a3-9cf2-c6f3b1d2f165"
      },
      "execution_count": 3,
      "outputs": [
        {
          "output_type": "execute_result",
          "data": {
            "text/plain": [
              "['TAG', 'ATG', 'TGA']"
            ]
          },
          "metadata": {},
          "execution_count": 3
        }
      ]
    },
    {
      "cell_type": "code",
      "execution_count": 10,
      "metadata": {
        "colab": {
          "base_uri": "https://localhost:8080/"
        },
        "id": "sErDbdeLg_E1",
        "outputId": "21db3d60-45a0-4f35-dc31-720b6ea11eb7"
      },
      "outputs": [
        {
          "output_type": "execute_result",
          "data": {
            "text/plain": [
              "['TAG', 'TGA']"
            ]
          },
          "metadata": {},
          "execution_count": 10
        }
      ],
      "source": [
        "#Let's revisit stop_codons list, we realize that ATG is not a codon so we want to fix this\n",
        "stop_codons.remove('ATG')\n",
        "stop_codons"
      ]
    },
    {
      "cell_type": "code",
      "source": [
        "#let's add the correct codon\n",
        "stop_codons.append('TAA')\n",
        "stop_codons"
      ],
      "metadata": {
        "id": "33eT3vk_l3v9",
        "colab": {
          "base_uri": "https://localhost:8080/"
        },
        "outputId": "295c0fdb-8f7a-4257-d959-915afea3c4de"
      },
      "execution_count": 11,
      "outputs": [
        {
          "output_type": "execute_result",
          "data": {
            "text/plain": [
              "['TAG', 'TGA', 'TAA']"
            ]
          },
          "metadata": {},
          "execution_count": 11
        }
      ]
    },
    {
      "cell_type": "markdown",
      "source": [
        "### **Exercise 2.1.2 Python Datatype Dictionary**"
      ],
      "metadata": {
        "id": "SsQiqY2lhQo1"
      }
    },
    {
      "cell_type": "code",
      "source": [
        "#Method 1: Create a dictionary with items\n",
        "leucine_codons = {'CTT':'Leu', 'CTC':'Leu',\n",
        "                  'CTA':'Leu', 'CTG':'Leu',\n",
        "                  'TTA':'Leu', 'TTG':'Leu'}\n",
        "leucine_codons"
      ],
      "metadata": {
        "id": "OSj07WzLhVkW",
        "colab": {
          "base_uri": "https://localhost:8080/"
        },
        "outputId": "6d78d60b-73ba-45f0-e4b1-ed5d55c67cdf"
      },
      "execution_count": 12,
      "outputs": [
        {
          "output_type": "execute_result",
          "data": {
            "text/plain": [
              "{'CTT': 'Leu',\n",
              " 'CTC': 'Leu',\n",
              " 'CTA': 'Leu',\n",
              " 'CTG': 'Leu',\n",
              " 'TTA': 'Leu',\n",
              " 'TTG': 'Leu'}"
            ]
          },
          "metadata": {},
          "execution_count": 12
        }
      ]
    },
    {
      "cell_type": "code",
      "source": [
        "#Method 2: Add elements to an ampty/existing dictionary\n",
        "empty_dictionary = {}"
      ],
      "metadata": {
        "id": "-x1SZ0II73kA"
      },
      "execution_count": 13,
      "outputs": []
    },
    {
      "cell_type": "code",
      "source": [
        "#Method 2: Add elements to an ampty/existing dictionary\n",
        "empty_dictionary['CTT'] = 'Leu'\n",
        "empty_dictionary['CTC'] = 'Leu'\n",
        "empty_dictionary['CTA'] = 'Leu'\n",
        "empty_dictionary['CTG'] = 'Leu'\n",
        "empty_dictionary['TTA'] = 'Leu'\n",
        "empty_dictionary['TTG'] = 'Leu'\n",
        "empty_dictionary"
      ],
      "metadata": {
        "colab": {
          "base_uri": "https://localhost:8080/"
        },
        "id": "9AgxfgbD8Tg-",
        "outputId": "6a87f9e0-3700-4db9-807f-aed64cf8aebd"
      },
      "execution_count": null,
      "outputs": [
        {
          "output_type": "execute_result",
          "data": {
            "text/plain": [
              "{'CTT': 'Leu',\n",
              " 'CTC': 'Leu',\n",
              " 'CTA': 'Leu',\n",
              " 'CTG': 'Leu',\n",
              " 'TTA': 'Leu',\n",
              " 'TTG': 'Leu'}"
            ]
          },
          "metadata": {},
          "execution_count": 9
        }
      ]
    },
    {
      "cell_type": "code",
      "source": [
        "#Let's revisit leucine_codons dictionary and call the 'CTT' codon\n",
        "leucine_codons['CTT']\n"
      ],
      "metadata": {
        "id": "DieuDRQUFc90",
        "colab": {
          "base_uri": "https://localhost:8080/",
          "height": 37
        },
        "outputId": "9ba788bf-27fa-4751-bb1e-dfec42584ab7"
      },
      "execution_count": 14,
      "outputs": [
        {
          "output_type": "execute_result",
          "data": {
            "text/plain": [
              "'Leu'"
            ],
            "application/vnd.google.colaboratory.intrinsic+json": {
              "type": "string"
            }
          },
          "metadata": {},
          "execution_count": 14
        }
      ]
    },
    {
      "cell_type": "markdown",
      "source": [
        "##**Lesson 2.2.0 Automating repetitive tasks using Python**"
      ],
      "metadata": {
        "id": "ewqEG1y22cmq"
      }
    },
    {
      "cell_type": "markdown",
      "source": [
        "### **Exercise 2.2.1 For Loops**"
      ],
      "metadata": {
        "id": "GxHc4urX4l0U"
      }
    },
    {
      "cell_type": "code",
      "source": [
        "#Can we interate through a list of values? yes\n",
        "measurements = [5,21,70,91]\n",
        "for x in measurements:\n",
        "  print(x)\n"
      ],
      "metadata": {
        "id": "L0MZSIdpfOJQ",
        "colab": {
          "base_uri": "https://localhost:8080/"
        },
        "outputId": "72d40d7f-7d90-4153-b531-7c36c0dc051d"
      },
      "execution_count": 16,
      "outputs": [
        {
          "output_type": "stream",
          "name": "stdout",
          "text": [
            "5\n",
            "21\n",
            "70\n",
            "91\n"
          ]
        }
      ]
    },
    {
      "cell_type": "code",
      "source": [
        "#Can we interate through a string? Yes\n",
        "sequence='ATGTGGTAA'\n",
        "for n in sequence:\n",
        "  print(n)\n"
      ],
      "metadata": {
        "id": "JDlqDEh_k03B",
        "colab": {
          "base_uri": "https://localhost:8080/"
        },
        "outputId": "1edf6a7e-10c8-41bc-fd7f-4e8c4b9ee453"
      },
      "execution_count": 17,
      "outputs": [
        {
          "output_type": "stream",
          "name": "stdout",
          "text": [
            "A\n",
            "T\n",
            "G\n",
            "T\n",
            "G\n",
            "G\n",
            "T\n",
            "A\n",
            "A\n"
          ]
        }
      ]
    },
    {
      "cell_type": "code",
      "source": [
        "#Can I interate though the indexes of a string? Yes\n",
        "sequence='ATGTGGTAA'\n",
        "for n in range(len(sequence)):\n",
        "  print('index:',n)\n",
        "  print('nucleotide:',sequence[n])\n"
      ],
      "metadata": {
        "id": "7iufL4qKk2P3",
        "colab": {
          "base_uri": "https://localhost:8080/"
        },
        "outputId": "13d542f3-35c5-43d4-af75-8c1cb57e27c3"
      },
      "execution_count": 21,
      "outputs": [
        {
          "output_type": "stream",
          "name": "stdout",
          "text": [
            "index: 0\n",
            "nucleotide: A\n",
            "index: 1\n",
            "nucleotide: T\n",
            "index: 2\n",
            "nucleotide: G\n",
            "index: 3\n",
            "nucleotide: T\n",
            "index: 4\n",
            "nucleotide: G\n",
            "index: 5\n",
            "nucleotide: G\n",
            "index: 6\n",
            "nucleotide: T\n",
            "index: 7\n",
            "nucleotide: A\n",
            "index: 8\n",
            "nucleotide: A\n",
            "index: 0\n",
            "nucleotide: A\n",
            "index: 1\n",
            "nucleotide: T\n",
            "index: 2\n",
            "nucleotide: G\n",
            "index: 3\n",
            "nucleotide: T\n",
            "index: 4\n",
            "nucleotide: G\n",
            "index: 5\n",
            "nucleotide: G\n",
            "index: 6\n",
            "nucleotide: T\n",
            "index: 7\n",
            "nucleotide: A\n",
            "index: 8\n",
            "nucleotide: A\n"
          ]
        }
      ]
    },
    {
      "cell_type": "markdown",
      "source": [
        "### **Exercise 2.2.1 Exploit information from sequences using For loops**"
      ],
      "metadata": {
        "id": "I235Ms8l5Jjj"
      }
    },
    {
      "cell_type": "code",
      "source": [
        "sequence='ATGTTATTATAG'\n",
        "RNA = sequence.replace('T','U')\n",
        "\n",
        "coding_sequence=[]\n",
        "temp=0\n",
        "for x in RNA:\n",
        "  codon = RNA[temp:temp+3]\n",
        "  if codon != '':\n",
        "    coding_sequence.append(codon)\n",
        "  temp=temp+3\n",
        "coding_sequence"
      ],
      "metadata": {
        "id": "qyc7tWvAxYwx",
        "colab": {
          "base_uri": "https://localhost:8080/"
        },
        "outputId": "c9536060-8150-4d92-bd32-a0c94368dc50"
      },
      "execution_count": 22,
      "outputs": [
        {
          "output_type": "execute_result",
          "data": {
            "text/plain": [
              "['AUG', 'UUA', 'UUA', 'UAG']"
            ]
          },
          "metadata": {},
          "execution_count": 22
        }
      ]
    },
    {
      "cell_type": "markdown",
      "source": [
        "## **Proficiency Assessment**"
      ],
      "metadata": {
        "id": "eDO9YIl_6gWl"
      }
    },
    {
      "cell_type": "markdown",
      "source": [
        "###**First prepare everything you need**"
      ],
      "metadata": {
        "id": "EnM97dIWYXAO"
      }
    },
    {
      "cell_type": "code",
      "source": [
        "#Dictionary for codon and residue\n",
        "codon_table = {\n",
        "    'TCA': 'S', 'TCC': 'S', 'TCG': 'S', 'TCT': 'S', 'AGC': 'S', 'AGT': 'S',    # Serine\n",
        "    'TTC': 'F', 'TTT': 'F',                                                    # Phenilalanine\n",
        "    'TTA': 'L', 'TTG': 'L', 'CTA': 'L', 'CTC': 'L', 'CTG': 'L', 'CTT': 'L',    # Leucine\n",
        "    'TAC': 'Y', 'TAT': 'Y',                                                    # Tirosine\n",
        "    'TAA': '*', 'TAG': '*', 'TGA': '*',                                        # Stop\n",
        "    'TGC': 'C', 'TGT': 'C',                                                    # Cisteine\n",
        "    'TGG': 'W',                                                                # Tryptophane\n",
        "    'CCA': 'P', 'CCC': 'P', 'CCG': 'P', 'CCT': 'P',                            # Proline\n",
        "    'CAC': 'H', 'CAT': 'H',                                                    # Histidine\n",
        "    'CAA': 'Q', 'CAG': 'Q',                                                    # Glutamine\n",
        "    'CGA': 'R', 'CGC': 'R', 'CGG': 'R', 'CGT': 'R',                            # Arginine\n",
        "    'ATA': 'I', 'ATC': 'I', 'ATT': 'I',                                        # Isoleucine\n",
        "    'ATG': 'M',                                                                # Methionine\n",
        "    'ACA': 'T', 'ACC': 'T', 'ACG': 'T', 'ACT': 'T',                            # Threonine\n",
        "    'AAC': 'N', 'AAT': 'N',                                                    # Asparagine\n",
        "    'AAA': 'K', 'AAG': 'K',                                                    # Lysine\n",
        "    'AGA': 'R', 'AGG': 'R',                                                    # Arginine\n",
        "    'GTA': 'V', 'GTC': 'V', 'GTG': 'V', 'GTT': 'V',                            # Valine\n",
        "    'GCA': 'A', 'GCC': 'A', 'GCG': 'A', 'GCT': 'A',                            # Alanine\n",
        "    'GAC': 'D', 'GAT': 'D',                                                    # Aspartic Acid\n",
        "    'GAA': 'E', 'GAG': 'E',                                                    # Glutamic Acid\n",
        "    'GGA': 'G', 'GGC': 'G', 'GGG': 'G', 'GGT': 'G'                             # Glycine\n",
        "}\n",
        "\n",
        "#Be curious, print the dictionary\n",
        "\n"
      ],
      "metadata": {
        "id": "gQUwg_BDG6Rr"
      },
      "execution_count": 24,
      "outputs": []
    },
    {
      "cell_type": "code",
      "source": [
        "# Sequence of interest\n",
        "sequence = \"\"\"ATGAGCATTATTAAAGAATTTCGCGAATTTGCGATGCGCGGGAACGTGGTGGATTTGGCG\n",
        "GTGGGTGTCATTATCGGTGCGGCATTCGGGAAGATTGTCTCTTCACTGGTTGCCGATATC\n",
        "ATCATGCCTCCTCTGGGCTTATTAATTGGCGGGATCGATTTTAA\"\"\"\n",
        "sequence"
      ],
      "metadata": {
        "id": "hZHB5RuyvO4S",
        "colab": {
          "base_uri": "https://localhost:8080/",
          "height": 71
        },
        "outputId": "0a862ff0-dabc-4f5a-b660-d6da5e67a08e"
      },
      "execution_count": 32,
      "outputs": [
        {
          "output_type": "execute_result",
          "data": {
            "text/plain": [
              "'ATGAGCATTATTAAAGAATTTCGCGAATTTGCGATGCGCGGGAACGTGGTGGATTTGGCG\\nGTGGGTGTCATTATCGGTGCGGCATTCGGGAAGATTGTCTCTTCACTGGTTGCCGATATC\\nATCATGCCTCCTCTGGGCTTATTAATTGGCGGGATCGATTTTAA'"
            ],
            "application/vnd.google.colaboratory.intrinsic+json": {
              "type": "string"
            }
          },
          "metadata": {},
          "execution_count": 32
        }
      ]
    },
    {
      "cell_type": "markdown",
      "source": [
        "### **Exercise 1: Return the total number of Guanines in the following sequence without using the count() function!**"
      ],
      "metadata": {
        "id": "ea87KixRMEHS"
      }
    },
    {
      "cell_type": "code",
      "source": [
        "#create the function\n",
        "def my_counter(seq):\n",
        "  temp=0\n",
        "  for x in seq:\n",
        "    if x == 'G':\n",
        "      temp=temp+1\n",
        "  return(temp)\n"
      ],
      "metadata": {
        "id": "Y6mvtFz0zaTS"
      },
      "execution_count": 26,
      "outputs": []
    },
    {
      "cell_type": "code",
      "source": [
        "#test my function\n",
        "my_counter(sequence)"
      ],
      "metadata": {
        "colab": {
          "base_uri": "https://localhost:8080/"
        },
        "id": "Rj-teQFu4Suc",
        "outputId": "7f7aa332-7e50-488f-92d2-ada14d5ca117"
      },
      "execution_count": 27,
      "outputs": [
        {
          "output_type": "execute_result",
          "data": {
            "text/plain": [
              "49"
            ]
          },
          "metadata": {},
          "execution_count": 27
        }
      ]
    },
    {
      "cell_type": "code",
      "source": [
        "#is it the same as count()?\n",
        "sequence.count('G')"
      ],
      "metadata": {
        "colab": {
          "base_uri": "https://localhost:8080/"
        },
        "id": "LBrQafpV4IuV",
        "outputId": "cfe8c3c2-d69a-4ce7-d3b7-986c2484ce0e"
      },
      "execution_count": 28,
      "outputs": [
        {
          "output_type": "execute_result",
          "data": {
            "text/plain": [
              "49"
            ]
          },
          "metadata": {},
          "execution_count": 28
        }
      ]
    },
    {
      "cell_type": "markdown",
      "source": [
        "### **Exercise 2: How many differences are between Sequence A and Sequence B?**"
      ],
      "metadata": {
        "id": "4-3oHEwrMUNu"
      }
    },
    {
      "cell_type": "code",
      "source": [
        "# Exercise 2: How many differences are between Sequence A and Sequence B?\n",
        "sequence_A = \"GDKKVSKK\"\n",
        "sequence_B = \"GAKLVMEK\"\n",
        "\n",
        "temp=0\n",
        "length=len(sequence_A)\n",
        "\n",
        "for x in range(length):\n",
        "  if sequence_A[x] != sequence_B[x]:\n",
        "    temp=temp+1\n",
        "temp"
      ],
      "metadata": {
        "id": "5jEC-Vo0zo9V",
        "colab": {
          "base_uri": "https://localhost:8080/"
        },
        "outputId": "97e3dba9-0659-4a14-985f-4ffa9b19135a"
      },
      "execution_count": 29,
      "outputs": [
        {
          "output_type": "execute_result",
          "data": {
            "text/plain": [
              "4"
            ]
          },
          "metadata": {},
          "execution_count": 29
        }
      ]
    },
    {
      "cell_type": "markdown",
      "source": [
        "### **Exercise 3: Return the following (length, transcript, coding sequence as a list, protein sequence) for the following sequence.**"
      ],
      "metadata": {
        "id": "vLkB0BC7Mft5"
      }
    },
    {
      "cell_type": "code",
      "source": [
        "#Return length\n",
        "sequence = \"ATGAGCATTA\"\n",
        "temp=0\n",
        "for x in sequence:\n",
        "  temp=temp+1\n",
        "temp"
      ],
      "metadata": {
        "id": "PnjNoaB0z-Mg",
        "colab": {
          "base_uri": "https://localhost:8080/"
        },
        "outputId": "5721a63b-e885-4c56-e829-34ed80ea0218"
      },
      "execution_count": 30,
      "outputs": [
        {
          "output_type": "execute_result",
          "data": {
            "text/plain": [
              "10"
            ]
          },
          "metadata": {},
          "execution_count": 30
        }
      ]
    },
    {
      "cell_type": "code",
      "source": [
        "#Return transcript\n",
        "rna_sequence='' #empty string\n",
        "for x in sequence:\n",
        "  if x == 'T':\n",
        "    rna_sequence = rna_sequence + 'U'\n",
        "  else:\n",
        "    rna_sequence = rna_sequence + x\n",
        "rna_sequence"
      ],
      "metadata": {
        "colab": {
          "base_uri": "https://localhost:8080/",
          "height": 37
        },
        "id": "9XIPvf94MpsY",
        "outputId": "d35b8238-c1a6-4392-99fd-2551c0e2b0f4"
      },
      "execution_count": 31,
      "outputs": [
        {
          "output_type": "execute_result",
          "data": {
            "text/plain": [
              "'AUGAGCAUUA'"
            ],
            "application/vnd.google.colaboratory.intrinsic+json": {
              "type": "string"
            }
          },
          "metadata": {},
          "execution_count": 31
        }
      ]
    },
    {
      "cell_type": "code",
      "source": [
        "#return the coding sequence, check out the presentation!"
      ],
      "metadata": {
        "id": "BdQ0p-sEarfm"
      },
      "execution_count": null,
      "outputs": []
    },
    {
      "cell_type": "code",
      "source": [
        "#To return the protein sequence, do the following\n",
        "\n",
        "#initiate an empty string\n",
        "#start to loop through your coding sequence variable (this is a list of codons from your sequence of interest)\n",
        "#within your loop, use the codon dictionary to return the correspoding amino acid\n",
        "#within your loop, the corresponding amino acid will be added to the emptt string\n"
      ],
      "metadata": {
        "id": "vx3dzHRlNO0y"
      },
      "execution_count": null,
      "outputs": []
    }
  ]
}