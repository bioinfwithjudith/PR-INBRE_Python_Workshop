{
  "nbformat": 4,
  "nbformat_minor": 0,
  "metadata": {
    "colab": {
      "provenance": [],
      "collapsed_sections": [
        "JliDMrEQ30qd",
        "qNkiaXt9CAHr",
        "hLfg_Ln94Dht",
        "5MyWNTXEDW7V",
        "tJ2MQXKe5rtm",
        "xNfc6RM3ZTSa",
        "TmuhjJ_rZZE5",
        "DEMV74GPryjl",
        "QyURicZ-EGPK",
        "Km9cjebqEQa_",
        "EIuSJJHAZcZq",
        "I8fwrmBxFFsJ",
        "T9hT-fRfE9YQ",
        "8NqSYB06E3gG",
        "z1ySIiqjG8Kd",
        "0vO7HSM64UUJ"
      ],
      "toc_visible": true
    },
    "kernelspec": {
      "name": "python3",
      "display_name": "Python 3"
    },
    "language_info": {
      "name": "python"
    }
  },
  "cells": [
    {
      "cell_type": "markdown",
      "source": [
        "#Hooray! You made it to the final day of Python! Do you have what it takes to be a Pythoneer?"
      ],
      "metadata": {
        "id": "CKu8rniHAGXb"
      }
    },
    {
      "cell_type": "markdown",
      "source": [
        "#Lesson 3.0.0: Create files"
      ],
      "metadata": {
        "id": "JliDMrEQ30qd"
      }
    },
    {
      "cell_type": "code",
      "source": [
        "#Use this block of code for notes\n",
        "\n"
      ],
      "metadata": {
        "id": "qfEdynrj3vNM"
      },
      "execution_count": 11,
      "outputs": []
    },
    {
      "cell_type": "markdown",
      "source": [
        "##Exercise 3.0.0: Create a file with gene names found in a List"
      ],
      "metadata": {
        "id": "qNkiaXt9CAHr"
      }
    },
    {
      "cell_type": "code",
      "source": [
        "#Use this block of code for notes\n",
        "\n"
      ],
      "metadata": {
        "id": "h-h6WS09-tJu"
      },
      "execution_count": 12,
      "outputs": []
    },
    {
      "cell_type": "markdown",
      "source": [
        "#Lesson 3.1.1: Read in the lines of a file using a For Loop"
      ],
      "metadata": {
        "id": "hLfg_Ln94Dht"
      }
    },
    {
      "cell_type": "code",
      "source": [
        "#Use this block of code for notes\n",
        "\n"
      ],
      "metadata": {
        "id": "jxzAVfTC5R8n"
      },
      "execution_count": 3,
      "outputs": []
    },
    {
      "cell_type": "code",
      "source": [
        "#Use strp(\\n) to remove blank lines\n"
      ],
      "metadata": {
        "id": "Kc1jW0SM5mRc"
      },
      "execution_count": null,
      "outputs": []
    },
    {
      "cell_type": "markdown",
      "source": [
        "#Lesson 3.1.2: Read in the lines of a file using a While Loop"
      ],
      "metadata": {
        "id": "tJ2MQXKe5rtm"
      }
    },
    {
      "cell_type": "code",
      "source": [
        "#Use this block of code for notes\n"
      ],
      "metadata": {
        "id": "hq0Hg3JW6B57"
      },
      "execution_count": 4,
      "outputs": []
    },
    {
      "cell_type": "markdown",
      "source": [
        "#Lesson 3.2.0: Manipulate files the Panda way"
      ],
      "metadata": {
        "id": "xNfc6RM3ZTSa"
      }
    },
    {
      "cell_type": "markdown",
      "source": [
        "##Lesson 3.2.1: Import the Panda Library"
      ],
      "metadata": {
        "id": "TmuhjJ_rZZE5"
      }
    },
    {
      "cell_type": "code",
      "source": [
        "#Import library here\n",
        "\n"
      ],
      "metadata": {
        "id": "05YTnuDmZWfp"
      },
      "execution_count": null,
      "outputs": []
    },
    {
      "cell_type": "markdown",
      "source": [
        "##Lesson 3.2.2: Read in a CSV file using a Panda Library"
      ],
      "metadata": {
        "id": "DEMV74GPryjl"
      }
    },
    {
      "cell_type": "markdown",
      "source": [
        "### Lesson 3.2.2a: Read in a CSV file with a header"
      ],
      "metadata": {
        "id": "QyURicZ-EGPK"
      }
    },
    {
      "cell_type": "code",
      "source": [
        "#Use this block of code for notes\n",
        "\n"
      ],
      "metadata": {
        "id": "DITf3ulLr1lv"
      },
      "execution_count": 5,
      "outputs": []
    },
    {
      "cell_type": "markdown",
      "source": [
        "###Lesson 3.2.2b: Read in a CSV file with no header"
      ],
      "metadata": {
        "id": "Km9cjebqEQa_"
      }
    },
    {
      "cell_type": "code",
      "source": [
        "#Use this block of code for notes\n",
        "\n"
      ],
      "metadata": {
        "id": "QpGHgq7bso6Q"
      },
      "execution_count": 13,
      "outputs": []
    },
    {
      "cell_type": "markdown",
      "source": [
        "##Lesson 3.2.3: Create a DataFrame and export a new CSV file using Panda Library"
      ],
      "metadata": {
        "id": "EIuSJJHAZcZq"
      }
    },
    {
      "cell_type": "markdown",
      "source": [
        "###Lesson 3.2.3a: Create a Panda DataFrame from a single List"
      ],
      "metadata": {
        "id": "I8fwrmBxFFsJ"
      }
    },
    {
      "cell_type": "code",
      "source": [
        "#Use this block of code for notes\n",
        "\n"
      ],
      "metadata": {
        "id": "DVSIZ_7JBf0y"
      },
      "execution_count": 15,
      "outputs": []
    },
    {
      "cell_type": "markdown",
      "source": [
        "###Lesson 3.2.3b: Create a Panda DataFrame from multiple Lists"
      ],
      "metadata": {
        "id": "T9hT-fRfE9YQ"
      }
    },
    {
      "cell_type": "code",
      "source": [
        "#Use this block of code for notes\n",
        "\n"
      ],
      "metadata": {
        "id": "XfrZhon0D0R-"
      },
      "execution_count": 14,
      "outputs": []
    },
    {
      "cell_type": "markdown",
      "source": [
        "###Lesson 3.2.3c: Create a Panda DataFrame from a Nested Dictionary"
      ],
      "metadata": {
        "id": "8NqSYB06E3gG"
      }
    },
    {
      "cell_type": "code",
      "source": [
        "#Use this block of code for notes\n",
        "\n"
      ],
      "metadata": {
        "id": "4m7nTifMC4V0"
      },
      "execution_count": 16,
      "outputs": []
    },
    {
      "cell_type": "markdown",
      "source": [
        "##Lesson 3.2.4: Export a Panda DataFrame as a CSV File"
      ],
      "metadata": {
        "id": "z1ySIiqjG8Kd"
      }
    },
    {
      "cell_type": "code",
      "source": [
        "#Use this block of code for notes\n",
        "\n"
      ],
      "metadata": {
        "id": "kvE_8bvJG-ol"
      },
      "execution_count": 10,
      "outputs": []
    },
    {
      "cell_type": "markdown",
      "source": [
        "#Proficiency Assessment"
      ],
      "metadata": {
        "id": "0vO7HSM64UUJ"
      }
    },
    {
      "cell_type": "markdown",
      "source": [
        "##create .faa file (this section of code is not for the class)"
      ],
      "metadata": {
        "id": "bs9fAGD90EIE"
      }
    },
    {
      "cell_type": "code",
      "source": [
        "with open('crtam.faa', 'w') as f:\n",
        "    f.write('>CRTAM_HUMAN')\n",
        "    f.write('\\n')\n",
        "    f.write('MWWRVLSLLAWFPLQEASLTNHTETITVEEGQTLTLKCVTSLRKNSSLQWLTPSGFTIFLNEYPALKNSKYQLLHHSANQLSITVPNVTLQDEGVYKCLHYSDSVSTKEVKVIVLATPFKPILEASVIRKQNGEEHVVLMCSTMRSKPPPQITWLLGNSMEVSGGTLHEFETDGKKCNTTSTLIIHTYGKNSTVDCIIRHRGLQGRKLVAPFRFEDLVTDEETASDALERNSLSSQDPQQPTSTVSVTEDSSTSEIDKEEKEQTTQDPDLTTEANPQYLGLARKKSGILLLTLVSFLIFILFIIVQLFIMKLRKAHVIWKRENEVSEHTLESYRSRSNNEETSSEEKNGQSSHPMRCMNYITKLYSEAKTKRKENVQHSKLEEKHIQVPESIV')\n",
        "    f.write('\\n')\n",
        "    f.write('>CRTAM_MOUSE')\n",
        "    f.write('\\n')\n",
        "    f.write('MWWGVLSLLFWVPVQAAFLKMETVTVEEGQTLTLTCVTSQTKNVSLQWLAPSGFTIFLNQHPALKSSKYQLLHHSATQLSISVSNVTLREEGVYTCLHYGSSVKTKQVRVTVLVTPFQPTVEALVLRRQNGEKSVVLKCSTERSKPPPQITWLLGEGLEIYGELHHEFEADGKICNTSSTLIARAYGKNSTVHCIIQHEGLHGRKLVAPFQFEDLVADQETTSDAPEQSSLSSQALQQPTSTVSMMENSSIPETDKEEKEHATQDPGLSTASAQHTGLARRKSGILLLTLVSFLIFILFIIVQLFIMKLRKAHVVWKKESEISEQALESYRSRSNNEETSSQENSSQAPQSKRCMNYITQLYSGAKTKKSAQHWKLGGKHSRVPESIV')\n",
        "    f.write('\\n')\n",
        "    f.write('>CADM1_HUMAN')\n",
        "    f.write('\\n')\n",
        "    f.write('MASVVLPSGSQCAAAAAAAAPPGLRLRLLLLLFSAAALIPTGDGQNLFTKDVTVIEGEVATISCQVNKSDDSVIQLLNPNRQTIYFRDFRPLKDSRFQLLNFSSSELKVSLTNVSISDEGRYFCQLYTDPPQESYTTITVLVPPRNLMIDIQRDTAVEGEEIEVNCTAMASKPATTIRWFKGNTELKGKSEVEEWSDMYTVTSQLMLKVHKEDDGVPVICQVEHPAVTGNLQTQRYLEVQYKPQVHIQMTYPLQGLTREGDALELTCEAIGKPQPVMVTWVRVDDEMPQHAVLSGPNLFINNLNKTDNGTYRCEASNIVGKAHSDYMLYVYDPPTTIPPPTTTTTTTTTTTTTILTIITDSRAGEEGSIRAVDHAVIGGVVAVVVFAMLCLLIILGRYFARHKGTYFTHEAKGADDAADADTAIINAEGGQNNSEEKKEYFI')\n"
      ],
      "metadata": {
        "id": "CSt8sI140Deq"
      },
      "execution_count": 17,
      "outputs": []
    },
    {
      "cell_type": "code",
      "source": [
        "with open('crtam_with_header.csv', 'w') as f:\n",
        "    f.write('gene,length')\n",
        "    f.write('\\n')\n",
        "    f.write('CRTAM_HUMAN')\n",
        "    f.write(',')\n",
        "    f.write('393')\n",
        "    f.write('\\n')\n",
        "    f.write('CRTAM_MOUSE')\n",
        "    f.write(',')\n",
        "    f.write('781')\n",
        "    f.write('\\n')\n",
        "    f.write('CADM1_HUMAN')\n",
        "    f.write(',')\n",
        "    f.write('442')\n"
      ],
      "metadata": {
        "id": "hO38lpOrdv6_"
      },
      "execution_count": 18,
      "outputs": []
    },
    {
      "cell_type": "code",
      "source": [
        "with open('crtam_without_header.csv', 'w') as f:\n",
        "    f.write('CRTAM_HUMAN')\n",
        "    f.write('\\t')\n",
        "    f.write('393')\n",
        "    f.write('\\n')\n",
        "    f.write('CRTAM_MOUSE')\n",
        "    f.write('\\t')\n",
        "    f.write('781')\n",
        "    f.write('\\n')\n",
        "    f.write('CADM1_HUMAN')\n",
        "    f.write('\\t')\n",
        "    f.write('442')\n"
      ],
      "metadata": {
        "id": "h8xVdfyfsiGD"
      },
      "execution_count": 19,
      "outputs": []
    },
    {
      "cell_type": "markdown",
      "source": [
        "##for loop through the line of a file"
      ],
      "metadata": {
        "id": "C2lyH6k3yJbU"
      }
    },
    {
      "cell_type": "code",
      "source": [
        "fasta_file = open('crtam.faa','r')\n",
        "for fasta_line in fasta_file:\n",
        "  print(fasta_line)\n",
        "fasta_file.close() "
      ],
      "metadata": {
        "colab": {
          "base_uri": "https://localhost:8080/"
        },
        "id": "79vYnjsGxugq",
        "outputId": "0dbdd940-cdcd-4fce-ca5f-54d7caa78eff"
      },
      "execution_count": 20,
      "outputs": [
        {
          "output_type": "stream",
          "name": "stdout",
          "text": [
            ">CRTAM_HUMAN\n",
            "\n",
            "MWWRVLSLLAWFPLQEASLTNHTETITVEEGQTLTLKCVTSLRKNSSLQWLTPSGFTIFLNEYPALKNSKYQLLHHSANQLSITVPNVTLQDEGVYKCLHYSDSVSTKEVKVIVLATPFKPILEASVIRKQNGEEHVVLMCSTMRSKPPPQITWLLGNSMEVSGGTLHEFETDGKKCNTTSTLIIHTYGKNSTVDCIIRHRGLQGRKLVAPFRFEDLVTDEETASDALERNSLSSQDPQQPTSTVSVTEDSSTSEIDKEEKEQTTQDPDLTTEANPQYLGLARKKSGILLLTLVSFLIFILFIIVQLFIMKLRKAHVIWKRENEVSEHTLESYRSRSNNEETSSEEKNGQSSHPMRCMNYITKLYSEAKTKRKENVQHSKLEEKHIQVPESIV\n",
            "\n",
            ">CRTAM_MOUSE\n",
            "\n",
            "MWWGVLSLLFWVPVQAAFLKMETVTVEEGQTLTLTCVTSQTKNVSLQWLAPSGFTIFLNQHPALKSSKYQLLHHSATQLSISVSNVTLREEGVYTCLHYGSSVKTKQVRVTVLVTPFQPTVEALVLRRQNGEKSVVLKCSTERSKPPPQITWLLGEGLEIYGELHHEFEADGKICNTSSTLIARAYGKNSTVHCIIQHEGLHGRKLVAPFQFEDLVADQETTSDAPEQSSLSSQALQQPTSTVSMMENSSIPETDKEEKEHATQDPGLSTASAQHTGLARRKSGILLLTLVSFLIFILFIIVQLFIMKLRKAHVVWKKESEISEQALESYRSRSNNEETSSQENSSQAPQSKRCMNYITQLYSGAKTKKSAQHWKLGGKHSRVPESIV\n",
            "\n",
            ">CADM1_HUMAN\n",
            "\n",
            "MASVVLPSGSQCAAAAAAAAPPGLRLRLLLLLFSAAALIPTGDGQNLFTKDVTVIEGEVATISCQVNKSDDSVIQLLNPNRQTIYFRDFRPLKDSRFQLLNFSSSELKVSLTNVSISDEGRYFCQLYTDPPQESYTTITVLVPPRNLMIDIQRDTAVEGEEIEVNCTAMASKPATTIRWFKGNTELKGKSEVEEWSDMYTVTSQLMLKVHKEDDGVPVICQVEHPAVTGNLQTQRYLEVQYKPQVHIQMTYPLQGLTREGDALELTCEAIGKPQPVMVTWVRVDDEMPQHAVLSGPNLFINNLNKTDNGTYRCEASNIVGKAHSDYMLYVYDPPTTIPPPTTTTTTTTTTTTTILTIITDSRAGEEGSIRAVDHAVIGGVVAVVVFAMLCLLIILGRYFARHKGTYFTHEAKGADDAADADTAIINAEGGQNNSEEKKEYFI\n"
          ]
        }
      ]
    },
    {
      "cell_type": "markdown",
      "source": [
        "##while loop through the line of a file"
      ],
      "metadata": {
        "id": "Ggj0mIXsyRiC"
      }
    },
    {
      "cell_type": "code",
      "execution_count": 21,
      "metadata": {
        "colab": {
          "base_uri": "https://localhost:8080/"
        },
        "id": "xWOjQwpHscDJ",
        "outputId": "5ba3058e-fb04-4d9e-adf3-bbe4359f3aec"
      },
      "outputs": [
        {
          "output_type": "stream",
          "name": "stdout",
          "text": [
            ">CRTAM_HUMAN\n",
            "\n",
            "MWWRVLSLLAWFPLQEASLTNHTETITVEEGQTLTLKCVTSLRKNSSLQWLTPSGFTIFLNEYPALKNSKYQLLHHSANQLSITVPNVTLQDEGVYKCLHYSDSVSTKEVKVIVLATPFKPILEASVIRKQNGEEHVVLMCSTMRSKPPPQITWLLGNSMEVSGGTLHEFETDGKKCNTTSTLIIHTYGKNSTVDCIIRHRGLQGRKLVAPFRFEDLVTDEETASDALERNSLSSQDPQQPTSTVSVTEDSSTSEIDKEEKEQTTQDPDLTTEANPQYLGLARKKSGILLLTLVSFLIFILFIIVQLFIMKLRKAHVIWKRENEVSEHTLESYRSRSNNEETSSEEKNGQSSHPMRCMNYITKLYSEAKTKRKENVQHSKLEEKHIQVPESIV\n",
            "\n",
            ">CRTAM_MOUSE\n",
            "\n",
            "MWWGVLSLLFWVPVQAAFLKMETVTVEEGQTLTLTCVTSQTKNVSLQWLAPSGFTIFLNQHPALKSSKYQLLHHSATQLSISVSNVTLREEGVYTCLHYGSSVKTKQVRVTVLVTPFQPTVEALVLRRQNGEKSVVLKCSTERSKPPPQITWLLGEGLEIYGELHHEFEADGKICNTSSTLIARAYGKNSTVHCIIQHEGLHGRKLVAPFQFEDLVADQETTSDAPEQSSLSSQALQQPTSTVSMMENSSIPETDKEEKEHATQDPGLSTASAQHTGLARRKSGILLLTLVSFLIFILFIIVQLFIMKLRKAHVVWKKESEISEQALESYRSRSNNEETSSQENSSQAPQSKRCMNYITQLYSGAKTKKSAQHWKLGGKHSRVPESIV\n",
            "\n",
            ">CADM1_HUMAN\n",
            "\n",
            "MASVVLPSGSQCAAAAAAAAPPGLRLRLLLLLFSAAALIPTGDGQNLFTKDVTVIEGEVATISCQVNKSDDSVIQLLNPNRQTIYFRDFRPLKDSRFQLLNFSSSELKVSLTNVSISDEGRYFCQLYTDPPQESYTTITVLVPPRNLMIDIQRDTAVEGEEIEVNCTAMASKPATTIRWFKGNTELKGKSEVEEWSDMYTVTSQLMLKVHKEDDGVPVICQVEHPAVTGNLQTQRYLEVQYKPQVHIQMTYPLQGLTREGDALELTCEAIGKPQPVMVTWVRVDDEMPQHAVLSGPNLFINNLNKTDNGTYRCEASNIVGKAHSDYMLYVYDPPTTIPPPTTTTTTTTTTTTTILTIITDSRAGEEGSIRAVDHAVIGGVVAVVVFAMLCLLIILGRYFARHKGTYFTHEAKGADDAADADTAIINAEGGQNNSEEKKEYFI\n"
          ]
        }
      ],
      "source": [
        "fasta_file = open('crtam.faa','r')\n",
        "fasta_lines = fasta_file.readline()\n",
        "while fasta_lines:\n",
        "  print(fasta_lines)\n",
        "  fasta_lines = fasta_file.readline()\n",
        "fasta_file.close() "
      ]
    }
  ]
}